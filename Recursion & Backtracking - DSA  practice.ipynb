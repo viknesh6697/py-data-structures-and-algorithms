{
 "cells": [
  {
   "cell_type": "markdown",
   "id": "9a674f7c",
   "metadata": {},
   "source": [
    "# Recursion"
   ]
  },
  {
   "cell_type": "markdown",
   "id": "285c1450",
   "metadata": {},
   "source": [
    "### Fibonacci Series"
   ]
  },
  {
   "cell_type": "code",
   "execution_count": 15,
   "id": "e7ab2c79",
   "metadata": {},
   "outputs": [
    {
     "name": "stdout",
     "output_type": "stream",
     "text": [
      "[0, 1, 1, 2, 3, 5]\n"
     ]
    }
   ],
   "source": [
    "def fib(n, p, c):\n",
    "    if n == 1:\n",
    "        return [p+c]\n",
    "    else:\n",
    "        return [p+c] + fib(n-1, c, p+c)\n",
    "    \n",
    "def printFib(n):\n",
    "    if n == 1:\n",
    "        return [0]\n",
    "    elif n == 2:\n",
    "        return [0, 1]\n",
    "    else:\n",
    "        return [0, 1] + fib(n-2, 0, 1)\n",
    "    \n",
    "print(printFib(6))"
   ]
  },
  {
   "cell_type": "markdown",
   "id": "c9bc3657",
   "metadata": {},
   "source": [
    "### Tower of Hanoi"
   ]
  },
  {
   "cell_type": "code",
   "execution_count": 8,
   "id": "75eb25bd",
   "metadata": {},
   "outputs": [
    {
     "name": "stdout",
     "output_type": "stream",
     "text": [
      "[[4, 3, 2], [1], []]\n",
      "[[4, 3], [1], [2]]\n",
      "[[4, 3], [], [2, 1]]\n",
      "[[4], [3], [2, 1]]\n",
      "[[4, 1], [3], [2]]\n",
      "[[4, 1], [3, 2], []]\n",
      "[[4], [3, 2, 1], []]\n",
      "[[], [3, 2, 1], [4]]\n",
      "[[], [3, 2], [4, 1]]\n",
      "[[2], [3], [4, 1]]\n",
      "[[2, 1], [3], [4]]\n",
      "[[2, 1], [], [4, 3]]\n",
      "[[2], [1], [4, 3]]\n",
      "[[], [1], [4, 3, 2]]\n",
      "[[], [], [4, 3, 2, 1]]\n"
     ]
    }
   ],
   "source": [
    "twrs = [[4,3,2,1],[],[]]\n",
    "def towerOfHanoi(n, sp=1, ep=3):\n",
    "    if n:\n",
    "        towerOfHanoi(n-1, sp, 6-sp-ep)\n",
    "        d = twrs[sp-1].pop()\n",
    "        twrs[ep-1].append(d)\n",
    "        print(twrs)\n",
    "        towerOfHanoi(n-1, 6-sp-ep, ep)\n",
    "\n",
    "towerOfHanoi(n=4)"
   ]
  },
  {
   "cell_type": "markdown",
   "id": "163ae8bf",
   "metadata": {},
   "source": [
    "### Check if array is sorted using Recursion"
   ]
  },
  {
   "cell_type": "code",
   "execution_count": 13,
   "id": "564ca3c0",
   "metadata": {},
   "outputs": [
    {
     "name": "stdout",
     "output_type": "stream",
     "text": [
      "True\n"
     ]
    }
   ],
   "source": [
    "def isArraySorted(arr):\n",
    "    if len(arr) == 1:\n",
    "        return True\n",
    "    return arr[0] <= arr[1] and isArraySorted(arr[1:])\n",
    "\n",
    "print(isArraySorted([1,3,5,7,9]))"
   ]
  },
  {
   "cell_type": "markdown",
   "id": "07e85e48",
   "metadata": {},
   "source": [
    "# Backtracking"
   ]
  },
  {
   "cell_type": "markdown",
   "id": "e9b9b3db",
   "metadata": {},
   "source": [
    "### Generate all binary strings with n bits "
   ]
  },
  {
   "cell_type": "code",
   "execution_count": 28,
   "id": "fd626fe4",
   "metadata": {},
   "outputs": [
    {
     "name": "stdout",
     "output_type": "stream",
     "text": [
      "['0000', '0001', '0010', '0011', '0100', '0101', '0110', '0111', '1000', '1001', '1010', '1011', '1100', '1101', '1110', '1111']\n"
     ]
    }
   ],
   "source": [
    "def bitStrings(n):\n",
    "    if n == 0: return []\n",
    "    if n == 1: return [\"0\", \"1\"]\n",
    "    return [digit + bitString for digit in bitStrings(1) for bitString in bitStrings(n-1)]\n",
    "\n",
    "print(bitStrings(4))"
   ]
  },
  {
   "cell_type": "code",
   "execution_count": 30,
   "id": "84a0d7eb",
   "metadata": {},
   "outputs": [
    {
     "name": "stdout",
     "output_type": "stream",
     "text": [
      "['000000', '000001', '000010', '000011', '000100', '000101', '000110', '000111', '001000', '001001', '001010', '001011', '001100', '001101', '001110', '001111', '010000', '010001', '010010', '010011', '010100', '010101', '010110', '010111', '011000', '011001', '011010', '011011', '011100', '011101', '011110', '011111', '100000', '100001', '100010', '100011', '100100', '100101', '100110', '100111', '101000', '101001', '101010', '101011', '101100', '101101', '101110', '101111', '110000', '110001', '110010', '110011', '110100', '110101', '110110', '110111', '111000', '111001', '111010', '111011', '111100', '111101', '111110', '111111']\n"
     ]
    }
   ],
   "source": [
    "print(bitStrings(6))"
   ]
  },
  {
   "cell_type": "markdown",
   "id": "1bc8d946",
   "metadata": {},
   "source": [
    "#### Generate all the strings of length n from 0 to k-1"
   ]
  },
  {
   "cell_type": "code",
   "execution_count": 35,
   "id": "6a2603b3",
   "metadata": {},
   "outputs": [
    {
     "name": "stdout",
     "output_type": "stream",
     "text": [
      "['0000', '0001', '0002', '0003', '0010', '0011', '0012', '0013', '0020', '0021', '0022', '0023', '0030', '0031', '0032', '0033', '0100', '0101', '0102', '0103', '0110', '0111', '0112', '0113', '0120', '0121', '0122', '0123', '0130', '0131', '0132', '0133', '0200', '0201', '0202', '0203', '0210', '0211', '0212', '0213', '0220', '0221', '0222', '0223', '0230', '0231', '0232', '0233', '0300', '0301', '0302', '0303', '0310', '0311', '0312', '0313', '0320', '0321', '0322', '0323', '0330', '0331', '0332', '0333', '1000', '1001', '1002', '1003', '1010', '1011', '1012', '1013', '1020', '1021', '1022', '1023', '1030', '1031', '1032', '1033', '1100', '1101', '1102', '1103', '1110', '1111', '1112', '1113', '1120', '1121', '1122', '1123', '1130', '1131', '1132', '1133', '1200', '1201', '1202', '1203', '1210', '1211', '1212', '1213', '1220', '1221', '1222', '1223', '1230', '1231', '1232', '1233', '1300', '1301', '1302', '1303', '1310', '1311', '1312', '1313', '1320', '1321', '1322', '1323', '1330', '1331', '1332', '1333', '2000', '2001', '2002', '2003', '2010', '2011', '2012', '2013', '2020', '2021', '2022', '2023', '2030', '2031', '2032', '2033', '2100', '2101', '2102', '2103', '2110', '2111', '2112', '2113', '2120', '2121', '2122', '2123', '2130', '2131', '2132', '2133', '2200', '2201', '2202', '2203', '2210', '2211', '2212', '2213', '2220', '2221', '2222', '2223', '2230', '2231', '2232', '2233', '2300', '2301', '2302', '2303', '2310', '2311', '2312', '2313', '2320', '2321', '2322', '2323', '2330', '2331', '2332', '2333', '3000', '3001', '3002', '3003', '3010', '3011', '3012', '3013', '3020', '3021', '3022', '3023', '3030', '3031', '3032', '3033', '3100', '3101', '3102', '3103', '3110', '3111', '3112', '3113', '3120', '3121', '3122', '3123', '3130', '3131', '3132', '3133', '3200', '3201', '3202', '3203', '3210', '3211', '3212', '3213', '3220', '3221', '3222', '3223', '3230', '3231', '3232', '3233', '3300', '3301', '3302', '3303', '3310', '3311', '3312', '3313', '3320', '3321', '3322', '3323', '3330', '3331', '3332', '3333']\n"
     ]
    }
   ],
   "source": [
    "def rangeToList(k):\n",
    "    result = []\n",
    "    for i in range(0, k):\n",
    "        result.append(str(i))\n",
    "    return result\n",
    "\n",
    "def baseKStrings(n, k):\n",
    "    if n == 0: return []\n",
    "    if n == 1: return rangeToList(k)\n",
    "    return [digit + bitString for digit in baseKStrings(1, k) for bitString in baseKStrings(n-1, k)]\n",
    "\n",
    "print(baseKStrings(4, 4))"
   ]
  },
  {
   "cell_type": "markdown",
   "id": "3b4e2f5a",
   "metadata": {},
   "source": [
    "# Finding the length of conneccted cells of 1s (regions) in a matrix of 0s and 1s"
   ]
  },
  {
   "cell_type": "code",
   "execution_count": 39,
   "id": "f6db45fe",
   "metadata": {},
   "outputs": [
    {
     "name": "stdout",
     "output_type": "stream",
     "text": [
      "Number of maximum 1s are \n",
      "5\n"
     ]
    }
   ],
   "source": [
    "def getVal(A, i, j, L, H):\n",
    "    if (i < 0 or i >= L or j < 0 or j >= H):\n",
    "        return 0\n",
    "    else:\n",
    "        return A[i][j]\n",
    "    \n",
    "def findMaxBlock(A, r, c, L, H, size):\n",
    "    global maxsize\n",
    "    global cntarr\n",
    "    \n",
    "    if ( r >= L or c >= H):\n",
    "        return\n",
    "    cntarr[r][c] = 1\n",
    "    size +=1\n",
    "    if (size > maxsize):\n",
    "        maxsize = size\n",
    "    # search in eight directions\n",
    "    direction = [[-1,0], [-1,-1], [0,-1], [1,-1], [1,-1], [1,0], [1,1], [0,1], [-1,1]]\n",
    "    for i in range(0,7):\n",
    "        newi = r + direction[i][0]\n",
    "        newj = c + direction[i][1]\n",
    "        val = getVal(A, newi, newj, L, H)\n",
    "        if (val > 0 and (cntarr[newi][newj] == 0)):\n",
    "            findMaxBlock(A, newi, newj, L, H, size)\n",
    "    cntarr[r][c] = 0\n",
    "    \n",
    "def getMaxOnes(A, rmax, colmax):\n",
    "    global maxsize\n",
    "    global size\n",
    "    global cntarr\n",
    "    for i in range(0, rmax):\n",
    "        for j in range(0, colmax):\n",
    "            if (A[i][j] == 1):\n",
    "                findMaxBlock(A, i, j, rmax, colmax, 0)\n",
    "    return maxsize\n",
    "\n",
    "zarr = [[1,1,0,0,0], [0,1,1,0,1], [0,0,0,1,1], [1,0,0,1,1], [0,1,0,1,1]]\n",
    "rmax = 5\n",
    "colmax = 5\n",
    "maxsize = 0\n",
    "size = 0\n",
    "cntarr = rmax*[colmax*[0]]\n",
    "print(\"Number of maximum 1s are \")\n",
    "print(getMaxOnes(zarr, rmax, colmax))"
   ]
  },
  {
   "cell_type": "markdown",
   "id": "31fe4195",
   "metadata": {},
   "source": [
    "### Path finding problem"
   ]
  },
  {
   "cell_type": "code",
   "execution_count": 1,
   "id": "f6003ab9",
   "metadata": {},
   "outputs": [
    {
     "name": "stdout",
     "output_type": "stream",
     "text": [
      "[(0, 0), (0, 1), (1, 1), (2, 1), (3, 1), (4, 1), (4, 2), (4, 3), (4, 4)]\n"
     ]
    }
   ],
   "source": [
    "def pathFinder(matrix, position, n):\n",
    "    # returns list of paths taken\n",
    "    if position == (n-1, n-1):\n",
    "        return [(n-1, n-1)]\n",
    "    x, y = position\n",
    "    if x+1 < n and matrix[x+1][y] == 1:\n",
    "        a = pathFinder(matrix, (x+1, y), n)\n",
    "        if a != None:\n",
    "            return [(x, y)] + a\n",
    "    if y+1 < n and matrix[x][y+1] == 1:\n",
    "        b = pathFinder(matrix, (x, y+1), n)\n",
    "        if b != None:\n",
    "            return [(x, y)] + b\n",
    "        \n",
    "M = [[1,1,1,1,0], [0,1,0,1,0], [0,1,0,1,0], [0,1,0,0,0], [1,1,1,1,1]]\n",
    "print(pathFinder(M, (0,0), 5))"
   ]
  },
  {
   "cell_type": "code",
   "execution_count": null,
   "id": "765c947c",
   "metadata": {},
   "outputs": [],
   "source": []
  }
 ],
 "metadata": {
  "kernelspec": {
   "display_name": "Python 3 (ipykernel)",
   "language": "python",
   "name": "python3"
  },
  "language_info": {
   "codemirror_mode": {
    "name": "ipython",
    "version": 3
   },
   "file_extension": ".py",
   "mimetype": "text/x-python",
   "name": "python",
   "nbconvert_exporter": "python",
   "pygments_lexer": "ipython3",
   "version": "3.11.9"
  }
 },
 "nbformat": 4,
 "nbformat_minor": 5
}
