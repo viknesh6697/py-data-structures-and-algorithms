{
 "cells": [
  {
   "cell_type": "markdown",
   "id": "cdba3ce2",
   "metadata": {},
   "source": [
    "# LINKED LISTS"
   ]
  },
  {
   "cell_type": "markdown",
   "id": "55b90330",
   "metadata": {},
   "source": [
    "### Singly Linked Lists"
   ]
  },
  {
   "cell_type": "code",
   "execution_count": 1,
   "id": "e2538805",
   "metadata": {},
   "outputs": [],
   "source": [
    "class Node:\n",
    "    def __init__(self, data=None, next=None):\n",
    "        self.data = data\n",
    "        self.next = next\n",
    "\n",
    "class LinkedList:\n",
    "    def __init__(self):\n",
    "        self.head = None  # Initialize the head of the list as null\n",
    "\n",
    "    def append(self, data):\n",
    "        \"\"\"Append a new node at the end.\"\"\"\n",
    "        new_node = Node(data)\n",
    "        if not self.head:  # If the list is empty, make the new node the head\n",
    "            self.head = new_node\n",
    "            return\n",
    "        last_node = self.head\n",
    "        while last_node.next:  # Traverse to the last node\n",
    "            last_node = last_node.next\n",
    "        last_node.next = new_node\n",
    "\n",
    "    def prepend(self, data):\n",
    "        \"\"\"Prepend a new node at the beginning.\"\"\"\n",
    "        new_node = Node(data)\n",
    "        new_node.next = self.head  # Point the new node's next to the head\n",
    "        self.head = new_node  # Make the new node the head\n",
    "\n",
    "    def print_list(self):\n",
    "        \"\"\"Print all elements of the list.\"\"\"\n",
    "        current_node = self.head\n",
    "        while current_node:\n",
    "            print(current_node.data)\n",
    "            current_node = current_node.next"
   ]
  },
  {
   "cell_type": "markdown",
   "id": "0bc4acfc",
   "metadata": {},
   "source": [
    "### Find nth from the end of the linked list"
   ]
  },
  {
   "cell_type": "code",
   "execution_count": 1,
   "id": "7afff371",
   "metadata": {},
   "outputs": [],
   "source": [
    "def nthNodeFromEnd(self, n):\n",
    "    if n < 0:\n",
    "        return None\n",
    "    temp = self.head\n",
    "    count = 0\n",
    "    while count < n and temp!= None:\n",
    "        temp = temp.next\n",
    "        count += 1\n",
    "    \n",
    "    # if the LinkedList does not contain n elements, return None\n",
    "    if count < n or temp == None:\n",
    "        return None\n",
    "        \n",
    "    # keeping tab on the nth element from temp, slide temp until temp equals last element Then return nth element\n",
    "    nth = self.head\n",
    "    while temp.next != None:\n",
    "        temp = temp.next\n",
    "        nth = nth.next\n",
    "        \n",
    "    return nth"
   ]
  },
  {
   "cell_type": "markdown",
   "id": "874ac3f9",
   "metadata": {},
   "source": [
    "### Floyd Cycle Finding Algorithm"
   ]
  },
  {
   "cell_type": "code",
   "execution_count": 2,
   "id": "b67f3b53",
   "metadata": {},
   "outputs": [],
   "source": [
    "def detectCycle(self):\n",
    "    fastPtr = self.head\n",
    "    slowPtr = self.head\n",
    "    while (fastPtr and slowPtr):\n",
    "        fastPtr = fastPtr.next\n",
    "        if (fastPtr == slowPtr):\n",
    "            return True\n",
    "        if fastPtr == None:\n",
    "            return False\n",
    "        fastPtr = fastPtr.next\n",
    "        if (fastPtr == slowPtr):\n",
    "            return True\n",
    "        slowPtr = slowPtr.next"
   ]
  },
  {
   "cell_type": "code",
   "execution_count": 3,
   "id": "774f6ab9",
   "metadata": {},
   "outputs": [],
   "source": [
    "# finding start point of the cycle\n",
    "\n",
    "def detectCycleStart(self):\n",
    "    if None == self.head or None == self.head.next:\n",
    "        return None\n",
    "    \n",
    "    slow = self.head.next\n",
    "    fast = slow.next\n",
    "    \n",
    "    # each keeping moving until meet again\n",
    "    while slow != fast:\n",
    "        slow = slow.next\n",
    "        try:\n",
    "            fast = fast.next.next\n",
    "        except AttributError:\n",
    "            return None\n",
    "        \n",
    "    # from head to beginning of loop is same as from fast to beginning of loop\n",
    "    slow = self.head\n",
    "    while slow != fast:\n",
    "        slow = slow.next\n",
    "        fast = fast.next\n",
    "    return slow"
   ]
  },
  {
   "cell_type": "code",
   "execution_count": 4,
   "id": "33458ca2",
   "metadata": {},
   "outputs": [],
   "source": [
    "# find length of the loop\n",
    "\n",
    "def detectCycleLength(self):\n",
    "    if None == self.head or None == self.head.next:\n",
    "        return 0\n",
    "    \n",
    "    slow = self.head.next\n",
    "    fast = slow.next\n",
    "    \n",
    "    # each keeping moving until meet again\n",
    "    while slow != fast:\n",
    "        slow = slow.next\n",
    "        try:\n",
    "            fast = fast.next.next\n",
    "        except AttributError:\n",
    "            return 0 # no cycle\n",
    "        \n",
    "    # from head to beginning of loop is same as from fast to beginning of of loop\n",
    "    slow = self.head\n",
    "    loop_length = 0\n",
    "    while slow != fast:\n",
    "        slow = slow.next\n",
    "        loop_length += 1\n",
    "    \n",
    "    return loop_length"
   ]
  },
  {
   "cell_type": "markdown",
   "id": "6c70f1d7",
   "metadata": {},
   "source": [
    "### Insert a node in sorted linked list"
   ]
  },
  {
   "cell_type": "code",
   "execution_count": 5,
   "id": "f5670d51",
   "metadata": {},
   "outputs": [],
   "source": [
    "def orderedInsert(self, item):\n",
    "    current = self.head\n",
    "    previous = None\n",
    "    stop = False\n",
    "    \n",
    "    while current != None and not stop:\n",
    "        if current.data > item:\n",
    "            stop = True\n",
    "        else:\n",
    "            previous = current\n",
    "            current = current.next\n",
    "    temp = Node(item)    \n",
    "    if previous == None:\n",
    "        temp = self.head\n",
    "        self.head = temp\n",
    "    else:\n",
    "        temp.next = current\n",
    "        previous.next = temp"
   ]
  },
  {
   "cell_type": "markdown",
   "id": "c16b4d16",
   "metadata": {},
   "source": [
    "### Reverse a singly linked list"
   ]
  },
  {
   "cell_type": "code",
   "execution_count": 6,
   "id": "df3bcd08",
   "metadata": {},
   "outputs": [],
   "source": [
    "def reverseList(self):\n",
    "    prev = None\n",
    "    current = self.head\n",
    "    while (current is not None):\n",
    "        nextNode = current.next\n",
    "        current.next = prev\n",
    "        prev = current\n",
    "        current = nextNode\n",
    "    self.head = prev"
   ]
  },
  {
   "cell_type": "markdown",
   "id": "d6000316",
   "metadata": {},
   "source": [
    "### Recursive reverse"
   ]
  },
  {
   "cell_type": "code",
   "execution_count": 8,
   "id": "11f38ec8",
   "metadata": {},
   "outputs": [],
   "source": [
    "def reverseRecursive(self, n): # n is node\n",
    "    if None != n:\n",
    "        right = n.next\n",
    "    if self.head != n:\n",
    "        n = self.head\n",
    "        self.head = n\n",
    "    else:\n",
    "        n = None\n",
    "        self.reverseRecursive(right)\n",
    "        "
   ]
  },
  {
   "cell_type": "markdown",
   "id": "9813887c",
   "metadata": {},
   "source": [
    "### Find intersecting node of two linked list"
   ]
  },
  {
   "cell_type": "code",
   "execution_count": 9,
   "id": "f06731ae",
   "metadata": {},
   "outputs": [],
   "source": [
    "def findIntersectingNode(self, list1, list2):\n",
    "    # find length of \n",
    "    currentList1, currentList2 = list1, list2\n",
    "    list1Len, list2Len = 0, 0 \n",
    "    while currentList1 is not None:\n",
    "        list1Len += 1\n",
    "        currentList1 = currentList1.next\n",
    "    while currentList2 is not None:\n",
    "        list2Len += 1\n",
    "        currentList2 = currentList2.next\n",
    "    \n",
    "    currentList1, currentList2 = list1, list2\n",
    "    if list1Len > list2Len:\n",
    "        for i in range(list1Len-list2Len):\n",
    "            currentList1 = currentList1.next\n",
    "    elif list1Len < list2Len:\n",
    "        for i in range(list2Len-list1Len):\n",
    "            currentList2 = currentList2.next\n",
    "    \n",
    "    while currentList2 != currentList1:\n",
    "        currentList1 = currentList1.next\n",
    "        currentList2 = currentList2.next\n",
    "    \n",
    "    return currentList1"
   ]
  },
  {
   "cell_type": "markdown",
   "id": "70408594",
   "metadata": {},
   "source": [
    "### Print a linked list from the end"
   ]
  },
  {
   "cell_type": "code",
   "execution_count": 10,
   "id": "8eee5d30",
   "metadata": {},
   "outputs": [],
   "source": [
    "def printListFromEnd(self, n):\n",
    "    if n == None:\n",
    "        return\n",
    "    right = n.next\n",
    "    self.printListFromEnd(right)\n",
    "    print(n.data)\n",
    "    "
   ]
  },
  {
   "cell_type": "markdown",
   "id": "8fc4f60e",
   "metadata": {},
   "source": [
    "### Find the middle of a linked list"
   ]
  },
  {
   "cell_type": "code",
   "execution_count": 11,
   "id": "6dcf3e45",
   "metadata": {},
   "outputs": [],
   "source": [
    "def middle(self):\n",
    "    fastPtr = self.head\n",
    "    slowPtr = self.head\n",
    "    \n",
    "    while (fastPtr != None):\n",
    "        fastPtr = fastPtr.next\n",
    "        if fastPtr == None:\n",
    "            return slowPtr\n",
    "        fastPtr = fastPtr.next\n",
    "        slowPtr = slowPtr.next\n",
    "    \n",
    "    return slowPtr"
   ]
  },
  {
   "cell_type": "code",
   "execution_count": null,
   "id": "66aa8498",
   "metadata": {},
   "outputs": [],
   "source": []
  }
 ],
 "metadata": {
  "kernelspec": {
   "display_name": "Python 3 (ipykernel)",
   "language": "python",
   "name": "python3"
  },
  "language_info": {
   "codemirror_mode": {
    "name": "ipython",
    "version": 3
   },
   "file_extension": ".py",
   "mimetype": "text/x-python",
   "name": "python",
   "nbconvert_exporter": "python",
   "pygments_lexer": "ipython3",
   "version": "3.11.9"
  }
 },
 "nbformat": 4,
 "nbformat_minor": 5
}
