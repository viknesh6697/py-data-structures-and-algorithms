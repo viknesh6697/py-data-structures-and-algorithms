{
 "cells": [
  {
   "cell_type": "markdown",
   "id": "cdba3ce2",
   "metadata": {},
   "source": [
    "# LINKED LISTS"
   ]
  },
  {
   "cell_type": "markdown",
   "id": "55b90330",
   "metadata": {},
   "source": [
    "### Singly Linked Lists"
   ]
  },
  {
   "cell_type": "code",
   "execution_count": 1,
   "id": "e2538805",
   "metadata": {},
   "outputs": [],
   "source": [
    "class Node:\n",
    "    def __init__(self, data=None, next=None):\n",
    "        self.data = data\n",
    "        self.next = next\n",
    "\n",
    "class LinkedList:\n",
    "    def __init__(self):\n",
    "        self.head = None  # Initialize the head of the list as null\n",
    "\n",
    "    def append(self, data):\n",
    "        \"\"\"Append a new node at the end.\"\"\"\n",
    "        new_node = Node(data)\n",
    "        if not self.head:  # If the list is empty, make the new node the head\n",
    "            self.head = new_node\n",
    "            return\n",
    "        last_node = self.head\n",
    "        while last_node.next:  # Traverse to the last node\n",
    "            last_node = last_node.next\n",
    "        last_node.next = new_node\n",
    "\n",
    "    def prepend(self, data):\n",
    "        \"\"\"Prepend a new node at the beginning.\"\"\"\n",
    "        new_node = Node(data)\n",
    "        new_node.next = self.head  # Point the new node's next to the head\n",
    "        self.head = new_node  # Make the new node the head\n",
    "\n",
    "    def delete_with_value(self, data):\n",
    "        \"\"\"Delete the first node with the specified value.\"\"\"\n",
    "        if not self.head:\n",
    "            return\n",
    "        if self.head.data == data:\n",
    "            self.head = self.head.next  # If the head is the node to delete\n",
    "            return\n",
    "        current_node = self.head\n",
    "        while current_node.next:\n",
    "            if current_node.next.data == data:\n",
    "                current_node.next = current_node.next.next\n",
    "                return\n",
    "            current_node = current_node.next\n",
    "\n",
    "    def print_list(self):\n",
    "        \"\"\"Print all elements of the list.\"\"\"\n",
    "        current_node = self.head\n",
    "        while current_node:\n",
    "            print(current_node.data)\n",
    "            current_node = current_node.next"
   ]
  },
  {
   "cell_type": "code",
   "execution_count": null,
   "id": "ca967c66",
   "metadata": {},
   "outputs": [],
   "source": []
  }
 ],
 "metadata": {
  "kernelspec": {
   "display_name": "Python 3 (ipykernel)",
   "language": "python",
   "name": "python3"
  },
  "language_info": {
   "codemirror_mode": {
    "name": "ipython",
    "version": 3
   },
   "file_extension": ".py",
   "mimetype": "text/x-python",
   "name": "python",
   "nbconvert_exporter": "python",
   "pygments_lexer": "ipython3",
   "version": "3.11.9"
  }
 },
 "nbformat": 4,
 "nbformat_minor": 5
}
